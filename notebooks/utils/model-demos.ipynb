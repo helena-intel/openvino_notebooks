{
 "cells": [
  {
   "cell_type": "markdown",
   "id": "5ef48e63-25cd-4ba5-a217-8e6fff12daf7",
   "metadata": {},
   "source": [
    "# OpenVINO Model Demos"
   ]
  },
  {
   "cell_type": "code",
   "execution_count": null,
   "id": "21bbcbd6-89e5-4af8-b3db-6744496f9a90",
   "metadata": {},
   "outputs": [],
   "source": [
    "from pathlib import Path\n",
    "from typing import Any, NamedTuple\n",
    "\n",
    "import cv2\n",
    "import ipywidgets\n",
    "import matplotlib.pyplot as plt\n",
    "from custom_segmentation import (\n",
    "    MonodepthModel,\n",
    "    PaddleAnimeModel,\n",
    "    PaddleSuperResolutionModel,\n",
    "    U2NetModel,\n",
    ")\n",
    "from openvino.inference_engine import IECore\n",
    "from many_utils import create_superresolution_comparison_video"
   ]
  },
  {
   "cell_type": "code",
   "execution_count": null,
   "id": "91d7dc8a-9616-48bb-9fb7-571df4f97e0b",
   "metadata": {},
   "outputs": [],
   "source": [
    "class ModelConfig(NamedTuple):\n",
    "    name: str\n",
    "    xml_file: str\n",
    "    model_class: Any\n",
    "    arguments: \"ModelConfig\" = {}"
   ]
  },
  {
   "cell_type": "code",
   "execution_count": null,
   "id": "ae79b996-ae9c-4951-9185-9f729816fe2f",
   "metadata": {},
   "outputs": [],
   "source": [
    "monodepth = ModelConfig(\n",
    "    \"Monodepth\", \"../201-vision-monodepth/model/MiDaS_small.xml\", MonodepthModel\n",
    ")\n",
    "u2net = ModelConfig(\n",
    "    \"Salient Object Detection\",\n",
    "    \"../205-vision-background-removal/model/u2net/u2net.xml\",\n",
    "    U2NetModel,\n",
    ")\n",
    "anime = ModelConfig(\n",
    "    \"Anime\", \"../206-vision-paddlegan-anime/model/paddlegan_anime.xml\", PaddleAnimeModel\n",
    ")\n",
    "superres = ModelConfig(\n",
    "    \"Super Resolution\",\n",
    "    \"../207-vision-paddlegan-superresolution/model/paddlegan_sr.xml\",\n",
    "    PaddleSuperResolutionModel)\n",
    "   # {\"resize_shape\": [1, 3, 450, 600]})\n",
    "small_models = [monodepth, u2net, anime]\n",
    "superres_models = [superres]"
   ]
  },
  {
   "cell_type": "markdown",
   "id": "a36644cc-97d9-4a59-9012-7b59c67b732d",
   "metadata": {},
   "source": [
    "## Upload and Select an Image"
   ]
  },
  {
   "cell_type": "code",
   "execution_count": null,
   "id": "d04be0a0-cb02-413a-a028-4f40e397080c",
   "metadata": {},
   "outputs": [],
   "source": [
    "def on_upload_change(change):\n",
    "    if not change.new:\n",
    "        return\n",
    "    widget = change.owner\n",
    "    widget._counter = 0\n",
    "    if len(widget.value.items()) > 0:\n",
    "        for filename, data in widget.value.items():\n",
    "            image_fn = Path(\"data\") / filename\n",
    "            with open(image_fn, \"wb\") as f:\n",
    "                f.write(data[\"content\"])\n",
    "            all_files = list(Path(\"data\").glob(\"*g\"))\n",
    "            current_options = list(dropdown.options)\n",
    "            current_options.append(image_fn)\n",
    "            dropdown.options = current_options\n",
    "            dropdown.index = len(current_options) - 1\n",
    "\n",
    "def show_results(image_fn, models):\n",
    "    ie = IECore()\n",
    "    image = cv2.cvtColor(cv2.imread(str(image_fn)), cv2.COLOR_BGR2RGB)\n",
    "    if len(models) == 3:\n",
    "        fig, ax = plt.subplots(2, 2, figsize=(20, 15))\n",
    "    else:\n",
    "        fig, ax = plt.subplots(1, 2, figsize=(20, 8))\n",
    "    axr = ax.ravel()\n",
    "    base_image_name = Path(image_fn).stem\n",
    "    output_dir = Path(f\"output/{base_image_name}\")\n",
    "    output_dir.mkdir(exist_ok=True, parents=True)\n",
    "    axr[0].imshow(image)\n",
    "    axr[0].axis(\"off\")\n",
    "    axr[0].set_title(\"Image\")\n",
    "    for i, model in enumerate(models):\n",
    "        segmodel = model.model_class(ie, model.xml_file, **model.arguments)\n",
    "        inputs, meta = segmodel.preprocess({segmodel.input_layer: image})\n",
    "        exec_net = ie.load_network(segmodel.net, \"CPU\")\n",
    "        raw_result = exec_net.infer(inputs)\n",
    "        result = segmodel.postprocess(raw_result, meta)\n",
    "        image_path = (\n",
    "            output_dir\n",
    "            / f\"{base_image_name}_{model.name.lower().replace(' ',' ')}{Path(image_fn).suffix}\"\n",
    "        )\n",
    "        if model.name == \"Super Resolution\":\n",
    "            create_superresolution_comparison_video(image, result, output_dir, base_image_name)\n",
    "        cv2.imwrite(str(image_path), cv2.cvtColor(result, cv2.COLOR_RGB2BGR))\n",
    "        axr[i+1].imshow(result)\n",
    "        axr[i+1].set_title(model.name)\n",
    "        axr[i+1].axis(\"off\")\n",
    "    plt.show()"
   ]
  },
  {
   "cell_type": "code",
   "execution_count": null,
   "id": "8a37a0ad-9298-490b-a8d9-d649f4327ec7",
   "metadata": {},
   "outputs": [],
   "source": [
    "all_files = list(Path(\"data\").glob(\"*g\"))\n",
    "upload_widget = ipywidgets.FileUpload()\n",
    "upload_widget.observe(on_upload_change)"
   ]
  },
  {
   "cell_type": "code",
   "execution_count": null,
   "id": "d1de6945-e33f-4e2f-ba95-992849f4fc6b",
   "metadata": {},
   "outputs": [],
   "source": [
    "dropdown = ipywidgets.Dropdown(options=all_files)\n",
    "output = ipywidgets.Output()\n",
    "superres_output=ipywidgets.Output()\n",
    "small_button = ipywidgets.Button(description=\"Go\")\n",
    "superres_button = ipywidgets.Button(description=\"Superres\")"
   ]
  },
  {
   "cell_type": "code",
   "execution_count": null,
   "id": "c386283a-36bc-4753-b039-d2d12980e676",
   "metadata": {},
   "outputs": [],
   "source": [
    "def show_output(btn):\n",
    "    output.clear_output()\n",
    "    return_value = dropdown.value\n",
    "    with output:\n",
    "        show_results(return_value, small_models)\n",
    "        \n",
    "def show_superres_output(btn):\n",
    "    superres_output.clear_output()\n",
    "    return_value = dropdown.value\n",
    "    with superres_output:\n",
    "        show_results(return_value, superres_models)\n",
    "        \n",
    "small_button.on_click(show_output)\n",
    "superres_button.on_click(show_superres_output)"
   ]
  },
  {
   "cell_type": "code",
   "execution_count": null,
   "id": "85855c86-b44a-4538-ac9b-5165c988f004",
   "metadata": {},
   "outputs": [],
   "source": [
    "ui = ipywidgets.HBox([upload_widget, dropdown, small_button])\n",
    "display(ui, output)"
   ]
  },
  {
   "cell_type": "code",
   "execution_count": null,
   "id": "16c53427-4295-426c-a6db-206936d09720",
   "metadata": {},
   "outputs": [],
   "source": [
    "superres_ui = ipywidgets.HBox([upload_widget, dropdown, superres_button])\n",
    "display(superres_ui, superres_output)"
   ]
  }
 ],
 "metadata": {
  "kernelspec": {
   "display_name": "Python 3",
   "language": "python",
   "name": "python3"
  },
  "language_info": {
   "codemirror_mode": {
    "name": "ipython",
    "version": 3
   },
   "file_extension": ".py",
   "mimetype": "text/x-python",
   "name": "python",
   "nbconvert_exporter": "python",
   "pygments_lexer": "ipython3",
   "version": "3.8.10"
  }
 },
 "nbformat": 4,
 "nbformat_minor": 5
}
